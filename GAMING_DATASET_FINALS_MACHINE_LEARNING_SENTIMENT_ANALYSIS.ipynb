{
  "nbformat": 4,
  "nbformat_minor": 0,
  "metadata": {
    "colab": {
      "provenance": [],
      "toc_visible": true,
      "include_colab_link": true
    },
    "kernelspec": {
      "name": "python3",
      "display_name": "Python 3"
    },
    "language_info": {
      "name": "python"
    }
  },
  "cells": [
    {
      "cell_type": "markdown",
      "metadata": {
        "id": "view-in-github",
        "colab_type": "text"
      },
      "source": [
        "<a href=\"https://colab.research.google.com/github/Rikkumiling/Machine-Learning-Finals/blob/main/GAMING_DATASET_FINALS_MACHINE_LEARNING_SENTIMENT_ANALYSIS.ipynb\" target=\"_parent\"><img src=\"https://colab.research.google.com/assets/colab-badge.svg\" alt=\"Open In Colab\"/></a>"
      ]
    },
    {
      "cell_type": "markdown",
      "source": [
        "#Initialize and import the neccessary libraries"
      ],
      "metadata": {
        "id": "QZsVP14zglvw"
      }
    },
    {
      "cell_type": "code",
      "source": [
        "import pandas as pd\n",
        "import numpy as np"
      ],
      "metadata": {
        "id": "oqmLMomYgsu3"
      },
      "execution_count": null,
      "outputs": []
    },
    {
      "cell_type": "markdown",
      "source": [
        "#Dataset"
      ],
      "metadata": {
        "id": "LzZyVdbiQhs_"
      }
    },
    {
      "cell_type": "code",
      "execution_count": null,
      "metadata": {
        "colab": {
          "base_uri": "https://localhost:8080/",
          "height": 538
        },
        "id": "MaSmHNpgOfZ3",
        "outputId": "1dc2a6ae-5d2a-4727-95d6-70ec51ce7a18"
      },
      "outputs": [
        {
          "output_type": "execute_result",
          "data": {
            "text/plain": [
              "                                game_id                             player_id  \\\n",
              "0  c321ee48-19f3-4850-bd4d-9cf821c10de0  d343c995-1e40-4da6-968c-f184cc69ffe5   \n",
              "1  746e9eb2-bbb4-42ec-97c2-253bd39e65e5  0a782e42-128d-40a7-b14b-b24f3c66531e   \n",
              "2  e69d344a-bc1d-483b-9411-03cad6478526  ec8598b7-afc0-4f98-a9a1-9045cd6d6e3c   \n",
              "3  7e782b81-c1d0-4b7c-8479-3ef48a2bb5cd  0e8d132a-64af-46b3-8327-9a47f74c997f   \n",
              "4  56bbd733-286f-4cff-b33d-a1a3923be0b7  46f75001-19e3-4677-83a0-be3acbb86399   \n",
              "\n",
              "                                game_title  game_rating game_demo_graphics  \\\n",
              "0         Extended well-modulated software            1              Ultra   \n",
              "1  Polarized multi-state open architecture           10               High   \n",
              "2        Down-sized fresh-thinking ability            8             Medium   \n",
              "3    Enterprise-wide methodical neural-net            6                Low   \n",
              "4   Fully-configurable asymmetric analyzer            5             Medium   \n",
              "\n",
              "    genre  age      gender  playing_time  study_time review_category  \\\n",
              "0  Action   20        Male          3.65        4.17        negative   \n",
              "1     RPG   16  Non-binary          5.03        4.13        positive   \n",
              "2     RPG   18  Non-binary          5.26        3.74         neutral   \n",
              "3     RPG   15      Female          3.92        5.29         neutral   \n",
              "4  Action   18      Female          2.89        6.16        positive   \n",
              "\n",
              "                                         game_review preferred_genre  \n",
              "0  Boring disappointed awful boring hate boring h...          Action  \n",
              "1                                   Love good great.        Strategy  \n",
              "2  Ordinary ordinary decent mediocre fair fine de...             RPG  \n",
              "3                          Fair acceptable ordinary.             RPG  \n",
              "4       Fantastic love good great awesome nice good.          Action  "
            ],
            "text/html": [
              "\n",
              "  <div id=\"df-38ee9df5-355d-4b66-80c3-d80787a1a59e\" class=\"colab-df-container\">\n",
              "    <div>\n",
              "<style scoped>\n",
              "    .dataframe tbody tr th:only-of-type {\n",
              "        vertical-align: middle;\n",
              "    }\n",
              "\n",
              "    .dataframe tbody tr th {\n",
              "        vertical-align: top;\n",
              "    }\n",
              "\n",
              "    .dataframe thead th {\n",
              "        text-align: right;\n",
              "    }\n",
              "</style>\n",
              "<table border=\"1\" class=\"dataframe\">\n",
              "  <thead>\n",
              "    <tr style=\"text-align: right;\">\n",
              "      <th></th>\n",
              "      <th>game_id</th>\n",
              "      <th>player_id</th>\n",
              "      <th>game_title</th>\n",
              "      <th>game_rating</th>\n",
              "      <th>game_demo_graphics</th>\n",
              "      <th>genre</th>\n",
              "      <th>age</th>\n",
              "      <th>gender</th>\n",
              "      <th>playing_time</th>\n",
              "      <th>study_time</th>\n",
              "      <th>review_category</th>\n",
              "      <th>game_review</th>\n",
              "      <th>preferred_genre</th>\n",
              "    </tr>\n",
              "  </thead>\n",
              "  <tbody>\n",
              "    <tr>\n",
              "      <th>0</th>\n",
              "      <td>c321ee48-19f3-4850-bd4d-9cf821c10de0</td>\n",
              "      <td>d343c995-1e40-4da6-968c-f184cc69ffe5</td>\n",
              "      <td>Extended well-modulated software</td>\n",
              "      <td>1</td>\n",
              "      <td>Ultra</td>\n",
              "      <td>Action</td>\n",
              "      <td>20</td>\n",
              "      <td>Male</td>\n",
              "      <td>3.65</td>\n",
              "      <td>4.17</td>\n",
              "      <td>negative</td>\n",
              "      <td>Boring disappointed awful boring hate boring h...</td>\n",
              "      <td>Action</td>\n",
              "    </tr>\n",
              "    <tr>\n",
              "      <th>1</th>\n",
              "      <td>746e9eb2-bbb4-42ec-97c2-253bd39e65e5</td>\n",
              "      <td>0a782e42-128d-40a7-b14b-b24f3c66531e</td>\n",
              "      <td>Polarized multi-state open architecture</td>\n",
              "      <td>10</td>\n",
              "      <td>High</td>\n",
              "      <td>RPG</td>\n",
              "      <td>16</td>\n",
              "      <td>Non-binary</td>\n",
              "      <td>5.03</td>\n",
              "      <td>4.13</td>\n",
              "      <td>positive</td>\n",
              "      <td>Love good great.</td>\n",
              "      <td>Strategy</td>\n",
              "    </tr>\n",
              "    <tr>\n",
              "      <th>2</th>\n",
              "      <td>e69d344a-bc1d-483b-9411-03cad6478526</td>\n",
              "      <td>ec8598b7-afc0-4f98-a9a1-9045cd6d6e3c</td>\n",
              "      <td>Down-sized fresh-thinking ability</td>\n",
              "      <td>8</td>\n",
              "      <td>Medium</td>\n",
              "      <td>RPG</td>\n",
              "      <td>18</td>\n",
              "      <td>Non-binary</td>\n",
              "      <td>5.26</td>\n",
              "      <td>3.74</td>\n",
              "      <td>neutral</td>\n",
              "      <td>Ordinary ordinary decent mediocre fair fine de...</td>\n",
              "      <td>RPG</td>\n",
              "    </tr>\n",
              "    <tr>\n",
              "      <th>3</th>\n",
              "      <td>7e782b81-c1d0-4b7c-8479-3ef48a2bb5cd</td>\n",
              "      <td>0e8d132a-64af-46b3-8327-9a47f74c997f</td>\n",
              "      <td>Enterprise-wide methodical neural-net</td>\n",
              "      <td>6</td>\n",
              "      <td>Low</td>\n",
              "      <td>RPG</td>\n",
              "      <td>15</td>\n",
              "      <td>Female</td>\n",
              "      <td>3.92</td>\n",
              "      <td>5.29</td>\n",
              "      <td>neutral</td>\n",
              "      <td>Fair acceptable ordinary.</td>\n",
              "      <td>RPG</td>\n",
              "    </tr>\n",
              "    <tr>\n",
              "      <th>4</th>\n",
              "      <td>56bbd733-286f-4cff-b33d-a1a3923be0b7</td>\n",
              "      <td>46f75001-19e3-4677-83a0-be3acbb86399</td>\n",
              "      <td>Fully-configurable asymmetric analyzer</td>\n",
              "      <td>5</td>\n",
              "      <td>Medium</td>\n",
              "      <td>Action</td>\n",
              "      <td>18</td>\n",
              "      <td>Female</td>\n",
              "      <td>2.89</td>\n",
              "      <td>6.16</td>\n",
              "      <td>positive</td>\n",
              "      <td>Fantastic love good great awesome nice good.</td>\n",
              "      <td>Action</td>\n",
              "    </tr>\n",
              "  </tbody>\n",
              "</table>\n",
              "</div>\n",
              "    <div class=\"colab-df-buttons\">\n",
              "\n",
              "  <div class=\"colab-df-container\">\n",
              "    <button class=\"colab-df-convert\" onclick=\"convertToInteractive('df-38ee9df5-355d-4b66-80c3-d80787a1a59e')\"\n",
              "            title=\"Convert this dataframe to an interactive table.\"\n",
              "            style=\"display:none;\">\n",
              "\n",
              "  <svg xmlns=\"http://www.w3.org/2000/svg\" height=\"24px\" viewBox=\"0 -960 960 960\">\n",
              "    <path d=\"M120-120v-720h720v720H120Zm60-500h600v-160H180v160Zm220 220h160v-160H400v160Zm0 220h160v-160H400v160ZM180-400h160v-160H180v160Zm440 0h160v-160H620v160ZM180-180h160v-160H180v160Zm440 0h160v-160H620v160Z\"/>\n",
              "  </svg>\n",
              "    </button>\n",
              "\n",
              "  <style>\n",
              "    .colab-df-container {\n",
              "      display:flex;\n",
              "      gap: 12px;\n",
              "    }\n",
              "\n",
              "    .colab-df-convert {\n",
              "      background-color: #E8F0FE;\n",
              "      border: none;\n",
              "      border-radius: 50%;\n",
              "      cursor: pointer;\n",
              "      display: none;\n",
              "      fill: #1967D2;\n",
              "      height: 32px;\n",
              "      padding: 0 0 0 0;\n",
              "      width: 32px;\n",
              "    }\n",
              "\n",
              "    .colab-df-convert:hover {\n",
              "      background-color: #E2EBFA;\n",
              "      box-shadow: 0px 1px 2px rgba(60, 64, 67, 0.3), 0px 1px 3px 1px rgba(60, 64, 67, 0.15);\n",
              "      fill: #174EA6;\n",
              "    }\n",
              "\n",
              "    .colab-df-buttons div {\n",
              "      margin-bottom: 4px;\n",
              "    }\n",
              "\n",
              "    [theme=dark] .colab-df-convert {\n",
              "      background-color: #3B4455;\n",
              "      fill: #D2E3FC;\n",
              "    }\n",
              "\n",
              "    [theme=dark] .colab-df-convert:hover {\n",
              "      background-color: #434B5C;\n",
              "      box-shadow: 0px 1px 3px 1px rgba(0, 0, 0, 0.15);\n",
              "      filter: drop-shadow(0px 1px 2px rgba(0, 0, 0, 0.3));\n",
              "      fill: #FFFFFF;\n",
              "    }\n",
              "  </style>\n",
              "\n",
              "    <script>\n",
              "      const buttonEl =\n",
              "        document.querySelector('#df-38ee9df5-355d-4b66-80c3-d80787a1a59e button.colab-df-convert');\n",
              "      buttonEl.style.display =\n",
              "        google.colab.kernel.accessAllowed ? 'block' : 'none';\n",
              "\n",
              "      async function convertToInteractive(key) {\n",
              "        const element = document.querySelector('#df-38ee9df5-355d-4b66-80c3-d80787a1a59e');\n",
              "        const dataTable =\n",
              "          await google.colab.kernel.invokeFunction('convertToInteractive',\n",
              "                                                    [key], {});\n",
              "        if (!dataTable) return;\n",
              "\n",
              "        const docLinkHtml = 'Like what you see? Visit the ' +\n",
              "          '<a target=\"_blank\" href=https://colab.research.google.com/notebooks/data_table.ipynb>data table notebook</a>'\n",
              "          + ' to learn more about interactive tables.';\n",
              "        element.innerHTML = '';\n",
              "        dataTable['output_type'] = 'display_data';\n",
              "        await google.colab.output.renderOutput(dataTable, element);\n",
              "        const docLink = document.createElement('div');\n",
              "        docLink.innerHTML = docLinkHtml;\n",
              "        element.appendChild(docLink);\n",
              "      }\n",
              "    </script>\n",
              "  </div>\n",
              "\n",
              "\n",
              "<div id=\"df-415a0b7f-59f0-46fa-9e3b-2c0a8f41b0a5\">\n",
              "  <button class=\"colab-df-quickchart\" onclick=\"quickchart('df-415a0b7f-59f0-46fa-9e3b-2c0a8f41b0a5')\"\n",
              "            title=\"Suggest charts\"\n",
              "            style=\"display:none;\">\n",
              "\n",
              "<svg xmlns=\"http://www.w3.org/2000/svg\" height=\"24px\"viewBox=\"0 0 24 24\"\n",
              "     width=\"24px\">\n",
              "    <g>\n",
              "        <path d=\"M19 3H5c-1.1 0-2 .9-2 2v14c0 1.1.9 2 2 2h14c1.1 0 2-.9 2-2V5c0-1.1-.9-2-2-2zM9 17H7v-7h2v7zm4 0h-2V7h2v10zm4 0h-2v-4h2v4z\"/>\n",
              "    </g>\n",
              "</svg>\n",
              "  </button>\n",
              "\n",
              "<style>\n",
              "  .colab-df-quickchart {\n",
              "      --bg-color: #E8F0FE;\n",
              "      --fill-color: #1967D2;\n",
              "      --hover-bg-color: #E2EBFA;\n",
              "      --hover-fill-color: #174EA6;\n",
              "      --disabled-fill-color: #AAA;\n",
              "      --disabled-bg-color: #DDD;\n",
              "  }\n",
              "\n",
              "  [theme=dark] .colab-df-quickchart {\n",
              "      --bg-color: #3B4455;\n",
              "      --fill-color: #D2E3FC;\n",
              "      --hover-bg-color: #434B5C;\n",
              "      --hover-fill-color: #FFFFFF;\n",
              "      --disabled-bg-color: #3B4455;\n",
              "      --disabled-fill-color: #666;\n",
              "  }\n",
              "\n",
              "  .colab-df-quickchart {\n",
              "    background-color: var(--bg-color);\n",
              "    border: none;\n",
              "    border-radius: 50%;\n",
              "    cursor: pointer;\n",
              "    display: none;\n",
              "    fill: var(--fill-color);\n",
              "    height: 32px;\n",
              "    padding: 0;\n",
              "    width: 32px;\n",
              "  }\n",
              "\n",
              "  .colab-df-quickchart:hover {\n",
              "    background-color: var(--hover-bg-color);\n",
              "    box-shadow: 0 1px 2px rgba(60, 64, 67, 0.3), 0 1px 3px 1px rgba(60, 64, 67, 0.15);\n",
              "    fill: var(--button-hover-fill-color);\n",
              "  }\n",
              "\n",
              "  .colab-df-quickchart-complete:disabled,\n",
              "  .colab-df-quickchart-complete:disabled:hover {\n",
              "    background-color: var(--disabled-bg-color);\n",
              "    fill: var(--disabled-fill-color);\n",
              "    box-shadow: none;\n",
              "  }\n",
              "\n",
              "  .colab-df-spinner {\n",
              "    border: 2px solid var(--fill-color);\n",
              "    border-color: transparent;\n",
              "    border-bottom-color: var(--fill-color);\n",
              "    animation:\n",
              "      spin 1s steps(1) infinite;\n",
              "  }\n",
              "\n",
              "  @keyframes spin {\n",
              "    0% {\n",
              "      border-color: transparent;\n",
              "      border-bottom-color: var(--fill-color);\n",
              "      border-left-color: var(--fill-color);\n",
              "    }\n",
              "    20% {\n",
              "      border-color: transparent;\n",
              "      border-left-color: var(--fill-color);\n",
              "      border-top-color: var(--fill-color);\n",
              "    }\n",
              "    30% {\n",
              "      border-color: transparent;\n",
              "      border-left-color: var(--fill-color);\n",
              "      border-top-color: var(--fill-color);\n",
              "      border-right-color: var(--fill-color);\n",
              "    }\n",
              "    40% {\n",
              "      border-color: transparent;\n",
              "      border-right-color: var(--fill-color);\n",
              "      border-top-color: var(--fill-color);\n",
              "    }\n",
              "    60% {\n",
              "      border-color: transparent;\n",
              "      border-right-color: var(--fill-color);\n",
              "    }\n",
              "    80% {\n",
              "      border-color: transparent;\n",
              "      border-right-color: var(--fill-color);\n",
              "      border-bottom-color: var(--fill-color);\n",
              "    }\n",
              "    90% {\n",
              "      border-color: transparent;\n",
              "      border-bottom-color: var(--fill-color);\n",
              "    }\n",
              "  }\n",
              "</style>\n",
              "\n",
              "  <script>\n",
              "    async function quickchart(key) {\n",
              "      const quickchartButtonEl =\n",
              "        document.querySelector('#' + key + ' button');\n",
              "      quickchartButtonEl.disabled = true;  // To prevent multiple clicks.\n",
              "      quickchartButtonEl.classList.add('colab-df-spinner');\n",
              "      try {\n",
              "        const charts = await google.colab.kernel.invokeFunction(\n",
              "            'suggestCharts', [key], {});\n",
              "      } catch (error) {\n",
              "        console.error('Error during call to suggestCharts:', error);\n",
              "      }\n",
              "      quickchartButtonEl.classList.remove('colab-df-spinner');\n",
              "      quickchartButtonEl.classList.add('colab-df-quickchart-complete');\n",
              "    }\n",
              "    (() => {\n",
              "      let quickchartButtonEl =\n",
              "        document.querySelector('#df-415a0b7f-59f0-46fa-9e3b-2c0a8f41b0a5 button');\n",
              "      quickchartButtonEl.style.display =\n",
              "        google.colab.kernel.accessAllowed ? 'block' : 'none';\n",
              "    })();\n",
              "  </script>\n",
              "</div>\n",
              "\n",
              "    </div>\n",
              "  </div>\n"
            ],
            "application/vnd.google.colaboratory.intrinsic+json": {
              "type": "dataframe",
              "variable_name": "df",
              "summary": "{\n  \"name\": \"df\",\n  \"rows\": 1000,\n  \"fields\": [\n    {\n      \"column\": \"game_id\",\n      \"properties\": {\n        \"dtype\": \"string\",\n        \"num_unique_values\": 1000,\n        \"samples\": [\n          \"efa38d9d-c30c-49e0-b01a-2e68bf873e1e\",\n          \"c5189ab9-93a0-4825-8d18-2b5ccf70fa2b\",\n          \"44b9ccf5-cf16-44e0-8e91-9f40bd832cba\"\n        ],\n        \"semantic_type\": \"\",\n        \"description\": \"\"\n      }\n    },\n    {\n      \"column\": \"player_id\",\n      \"properties\": {\n        \"dtype\": \"string\",\n        \"num_unique_values\": 1000,\n        \"samples\": [\n          \"f8f87ea7-d064-4c6e-bd46-01070249cca5\",\n          \"13ec54f7-6a53-4542-9739-a6ee60cfaa79\",\n          \"b83e987f-4de6-4cbe-b01e-691c6708cdbc\"\n        ],\n        \"semantic_type\": \"\",\n        \"description\": \"\"\n      }\n    },\n    {\n      \"column\": \"game_title\",\n      \"properties\": {\n        \"dtype\": \"string\",\n        \"num_unique_values\": 999,\n        \"samples\": [\n          \"Reactive incremental Internet solution\",\n          \"Decentralized maximized capacity\",\n          \"Multi-layered eco-centric portal\"\n        ],\n        \"semantic_type\": \"\",\n        \"description\": \"\"\n      }\n    },\n    {\n      \"column\": \"game_rating\",\n      \"properties\": {\n        \"dtype\": \"number\",\n        \"std\": 2,\n        \"min\": 1,\n        \"max\": 10,\n        \"num_unique_values\": 10,\n        \"samples\": [\n          2,\n          10,\n          7\n        ],\n        \"semantic_type\": \"\",\n        \"description\": \"\"\n      }\n    },\n    {\n      \"column\": \"game_demo_graphics\",\n      \"properties\": {\n        \"dtype\": \"category\",\n        \"num_unique_values\": 4,\n        \"samples\": [\n          \"High\",\n          \"Low\",\n          \"Ultra\"\n        ],\n        \"semantic_type\": \"\",\n        \"description\": \"\"\n      }\n    },\n    {\n      \"column\": \"genre\",\n      \"properties\": {\n        \"dtype\": \"category\",\n        \"num_unique_values\": 6,\n        \"samples\": [\n          \"Action\",\n          \"RPG\",\n          \"Sports\"\n        ],\n        \"semantic_type\": \"\",\n        \"description\": \"\"\n      }\n    },\n    {\n      \"column\": \"age\",\n      \"properties\": {\n        \"dtype\": \"number\",\n        \"std\": 1,\n        \"min\": 15,\n        \"max\": 21,\n        \"num_unique_values\": 7,\n        \"samples\": [\n          20,\n          16,\n          19\n        ],\n        \"semantic_type\": \"\",\n        \"description\": \"\"\n      }\n    },\n    {\n      \"column\": \"gender\",\n      \"properties\": {\n        \"dtype\": \"category\",\n        \"num_unique_values\": 4,\n        \"samples\": [\n          \"Non-binary\",\n          \"Other\",\n          \"Male\"\n        ],\n        \"semantic_type\": \"\",\n        \"description\": \"\"\n      }\n    },\n    {\n      \"column\": \"playing_time\",\n      \"properties\": {\n        \"dtype\": \"number\",\n        \"std\": 1.3803459366785216,\n        \"min\": 0.0,\n        \"max\": 6.0,\n        \"num_unique_values\": 451,\n        \"samples\": [\n          4.61,\n          4.31,\n          3.3\n        ],\n        \"semantic_type\": \"\",\n        \"description\": \"\"\n      }\n    },\n    {\n      \"column\": \"study_time\",\n      \"properties\": {\n        \"dtype\": \"number\",\n        \"std\": 1.3977493262667233,\n        \"min\": 1.93,\n        \"max\": 8.0,\n        \"num_unique_values\": 439,\n        \"samples\": [\n          5.28,\n          3.31,\n          4.81\n        ],\n        \"semantic_type\": \"\",\n        \"description\": \"\"\n      }\n    },\n    {\n      \"column\": \"review_category\",\n      \"properties\": {\n        \"dtype\": \"category\",\n        \"num_unique_values\": 3,\n        \"samples\": [\n          \"negative\",\n          \"positive\",\n          \"neutral\"\n        ],\n        \"semantic_type\": \"\",\n        \"description\": \"\"\n      }\n    },\n    {\n      \"column\": \"game_review\",\n      \"properties\": {\n        \"dtype\": \"string\",\n        \"num_unique_values\": 997,\n        \"samples\": [\n          \"Mediocre fine standard mediocre okay acceptable fine.\",\n          \"Acceptable not bad okay acceptable average fine.\",\n          \"Awesome satisfied fantastic satisfied.\"\n        ],\n        \"semantic_type\": \"\",\n        \"description\": \"\"\n      }\n    },\n    {\n      \"column\": \"preferred_genre\",\n      \"properties\": {\n        \"dtype\": \"category\",\n        \"num_unique_values\": 6,\n        \"samples\": [\n          \"Action\",\n          \"Strategy\",\n          \"Sports\"\n        ],\n        \"semantic_type\": \"\",\n        \"description\": \"\"\n      }\n    }\n  ]\n}"
            }
          },
          "metadata": {},
          "execution_count": 5
        }
      ],
      "source": [
        "df= pd.read_csv('/content/drive/Shareddrives/FINALS DATASETS/gaming_dataset.csv')\n",
        "df.head()\n"
      ]
    },
    {
      "cell_type": "markdown",
      "source": [
        "#MODELLING"
      ],
      "metadata": {
        "id": "6A-gnY5bnid5"
      }
    },
    {
      "cell_type": "markdown",
      "source": [
        "##Sentiment Analysis Using Naive Bayes  "
      ],
      "metadata": {
        "id": "8ccOzpcVLQM2"
      }
    },
    {
      "cell_type": "markdown",
      "source": [
        "###Initialization"
      ],
      "metadata": {
        "id": "o1N-sSahLZby"
      }
    },
    {
      "cell_type": "code",
      "source": [
        "import pandas as pd\n",
        "from sklearn.feature_extraction.text import CountVectorizer\n",
        "from sklearn.model_selection import train_test_split\n",
        "from sklearn.naive_bayes import MultinomialNB\n",
        "from sklearn.pipeline import make_pipeline\n",
        "from sklearn.metrics import classification_report, accuracy_score\n",
        "from sklearn.model_selection import train_test_split"
      ],
      "metadata": {
        "id": "P84QeBJsnkSk"
      },
      "execution_count": null,
      "outputs": []
    },
    {
      "cell_type": "markdown",
      "source": [
        "###Load Dataset"
      ],
      "metadata": {
        "id": "m_eWmwL4LfQ4"
      }
    },
    {
      "cell_type": "code",
      "source": [
        "df = pd.read_csv('/content/gaming_dataset.csv')"
      ],
      "metadata": {
        "id": "SpDJvOiNnhLI"
      },
      "execution_count": null,
      "outputs": []
    },
    {
      "cell_type": "markdown",
      "source": [
        "###Pre-Process and Feature Engineering"
      ],
      "metadata": {
        "id": "gFmZ2-KGLrCw"
      }
    },
    {
      "cell_type": "code",
      "source": [
        "X = df['game_review']\n",
        "y = df['review_category']\n",
        "\n",
        "\n",
        "label_mapping = {'positive': 2, 'neutral': 1, 'negative': 0}\n",
        "y = y.map(label_mapping)\n",
        "\n",
        "\n",
        "X_train, X_test, y_train, y_test = train_test_split(X, y, test_size=0.2, random_state=42)"
      ],
      "metadata": {
        "id": "cNGUmefqL18R"
      },
      "execution_count": null,
      "outputs": []
    },
    {
      "cell_type": "markdown",
      "source": [
        "###Model"
      ],
      "metadata": {
        "id": "pFlzi93eMSV4"
      }
    },
    {
      "cell_type": "code",
      "source": [
        "model = make_pipeline(CountVectorizer(), MultinomialNB())\n",
        "\n",
        "model.fit(X_train, y_train)\n",
        "\n",
        "y_pred = model.predict(X_test)"
      ],
      "metadata": {
        "id": "vGED_496L63e"
      },
      "execution_count": null,
      "outputs": []
    },
    {
      "cell_type": "markdown",
      "source": [
        "###Model Evaluation"
      ],
      "metadata": {
        "id": "B1RdTEB3MfWc"
      }
    },
    {
      "cell_type": "code",
      "source": [
        "print(\"Accuracy:\", accuracy_score(y_test, y_pred))\n",
        "print(\"Classification Report:\")\n",
        "print(classification_report(y_test, y_pred, target_names=label_mapping.keys()))"
      ],
      "metadata": {
        "colab": {
          "base_uri": "https://localhost:8080/"
        },
        "id": "kTqoO42pMimg",
        "outputId": "7f298848-9d94-4d22-aed2-138aff704106"
      },
      "execution_count": null,
      "outputs": [
        {
          "output_type": "stream",
          "name": "stdout",
          "text": [
            "Accuracy: 1.0\n",
            "Classification Report:\n",
            "              precision    recall  f1-score   support\n",
            "\n",
            "    positive       1.00      1.00      1.00        55\n",
            "     neutral       1.00      1.00      1.00        78\n",
            "    negative       1.00      1.00      1.00        67\n",
            "\n",
            "    accuracy                           1.00       200\n",
            "   macro avg       1.00      1.00      1.00       200\n",
            "weighted avg       1.00      1.00      1.00       200\n",
            "\n"
          ]
        }
      ]
    }
  ]
}